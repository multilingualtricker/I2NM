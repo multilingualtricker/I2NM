{
 "cells": [
  {
   "cell_type": "code",
   "execution_count": 5,
   "metadata": {},
   "outputs": [
    {
     "name": "stdout",
     "output_type": "stream",
     "text": [
      "100000.0\n",
      "50000.0\n",
      "[ -3.40741737e-05  -3.41472857e-05]\n",
      "-0.00309223236391\n"
     ]
    }
   ],
   "source": [
    "#Purpose practical Tue 9oct2017\n",
    "#Numerical Differentiation\n",
    "\n",
    "import numpy as np\n",
    "\n",
    "#variables\n",
    "pa = 1e5 #pascals\n",
    "pb = 200 #pascals\n",
    "f = 1e-4 #s^-1\n",
    "rho = 1 #kg*m^-3\n",
    "l = 2.4e6 #m\n",
    "ymin = 0 #m\n",
    "ymax = 1e6 #m\n",
    "\n",
    "n = 10\n",
    "\n",
    "y = np.linspace(ymin, ymax, n)\n",
    "dy = (ymax-ymin) / (n-1)\n",
    "\n",
    "\n",
    "an_p_prime = -((np.pi*pb)/l) * (np.sin((y*np.pi)/l))\n",
    "an_u = (-1/(rho*f))*an_p_prime\n",
    "\n",
    "\n",
    "\n",
    "# Does the code behave as expected?\n",
    "\n",
    "erroraty = 1e5\n",
    "an_dp1 = ((-np.pi*pb)/l) * (np.sin((erroraty*np.pi)/l)) #analytical dp/dy\n",
    "deltay_list = [1e5, 5e4]\n",
    "\n",
    "#create empty nan lists\n",
    "p1plus = np.full(len(deltay_list), np.nan)\n",
    "p1minus = np.full(len(deltay_list), np.nan)\n",
    "errorlist = np.full(len(deltay_list), np.nan)\n",
    "\n",
    "for deltay in enumerate(deltay_list):\n",
    "    p1plus[deltay[0]] = pa + (pb*np.cos(((erroraty+deltay[1])*np.pi)/l)) #P(j+1)\n",
    "    p1minus[deltay[0]] = pa + (pb*np.cos(((erroraty-deltay[1])*np.pi)/l)) #P(j-1)\n",
    "    errorlist[deltay[0]] = (p1plus[deltay[0]] - p1minus[deltay[0]]) / (2*dy)\n",
    "\n",
    "    \n",
    "print(errorlist)\n",
    "\n",
    "print(np.log(errorlist[0]/errorlist[1]) / (np.log(deltay_list[0]) - np.log(deltay_list[1])))\n",
    "\n",
    "\n"
   ]
  },
  {
   "cell_type": "code",
   "execution_count": null,
   "metadata": {},
   "outputs": [],
   "source": []
  }
 ],
 "metadata": {
  "kernelspec": {
   "display_name": "Python [conda env:py27]",
   "language": "python",
   "name": "conda-env-py27-py"
  },
  "language_info": {
   "codemirror_mode": {
    "name": "ipython",
    "version": 2
   },
   "file_extension": ".py",
   "mimetype": "text/x-python",
   "name": "python",
   "nbconvert_exporter": "python",
   "pygments_lexer": "ipython2",
   "version": "2.7.15"
  }
 },
 "nbformat": 4,
 "nbformat_minor": 2
}
